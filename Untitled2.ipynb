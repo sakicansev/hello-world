{
  "nbformat": 4,
  "nbformat_minor": 0,
  "metadata": {
    "colab": {
      "provenance": [],
      "authorship_tag": "ABX9TyMsE9Mo44wKUz/tlG0Nw7bZ",
      "include_colab_link": true
    },
    "kernelspec": {
      "name": "python3",
      "display_name": "Python 3"
    },
    "language_info": {
      "name": "python"
    }
  },
  "cells": [
    {
      "cell_type": "markdown",
      "metadata": {
        "id": "view-in-github",
        "colab_type": "text"
      },
      "source": [
        "<a href=\"https://colab.research.google.com/github/sakicansev/hello-world/blob/master/Untitled2.ipynb\" target=\"_parent\"><img src=\"https://colab.research.google.com/assets/colab-badge.svg\" alt=\"Open In Colab\"/></a>"
      ]
    },
    {
      "cell_type": "code",
      "execution_count": 2,
      "metadata": {
        "id": "xc3-vmua8fiR"
      },
      "outputs": [],
      "source": [
        "# DEEP LEARNING\n",
        "# 1- What is deep learing?\n",
        "# 2- Deep learning tutorial\n",
        "# 3- Top 8 deep leaning frameworks\n",
        "# 4- TanserFlow tutorial\n",
        "# 5- Artificial Neural Network tutorial\n",
        "# 6- Backpropafation and Gradien Descent Tutorial\n",
        "# 7- Recurrent Neural Network (RNN)\n",
        "# 8- Convolutional Neural network (CNN)\n",
        "# 9- Autoencoders Tutorial\n",
        "# 10- Restricted Boltzmann Machine\n",
        "# 11- TensorFlow Object Detection\n",
        "# 12- Creating Chatbots using TensorFlow\n",
        "\n",
        "\n",
        "\n",
        "# 1- What is deep learing?\n",
        "## What is Artificial Intelligence?\n",
        "### If a car exceeds a speed limit, it's almost impossible to note the plate\n",
        "### numbers down. we can use machine learning.\n",
        "\n",
        "## What is Machine Learning?\n",
        "### Arificial intelligence is the capability of a machine to imitate\n",
        "### intelligence human behavior.\n",
        "### Speech recognition // understanding Neural Language // Image Recignition\n",
        "\n",
        "## Limitaions of Machine Learning\n",
        "\n",
        "\n",
        "## Deep Learning to the Rescue\n",
        "## what is Deep Learning?\n",
        "## Deep Learning Applications\n",
        "\n",
        "##\n",
        "##\n",
        "##\n",
        "#\n",
        "#\n",
        "#\n",
        "#\n",
        "#\n",
        "#\n",
        "#\n",
        "#\n",
        "#\n",
        "#\n",
        "#\n",
        "#\n",
        "#\n"
      ]
    },
    {
      "cell_type": "code",
      "source": [],
      "metadata": {
        "id": "8Izgpqjv9KbD"
      },
      "execution_count": null,
      "outputs": []
    },
    {
      "cell_type": "code",
      "source": [],
      "metadata": {
        "id": "SwVfpOv39Jfv"
      },
      "execution_count": null,
      "outputs": []
    }
  ]
}